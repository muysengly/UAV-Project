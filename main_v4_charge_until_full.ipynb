{
 "cells": [
  {
   "attachments": {},
   "cell_type": "markdown",
   "metadata": {
    "pycharm": {
     "name": "#%% md\n"
    }
   },
   "source": [
    "# Project UAV\n",
    "\n",
    "Version 3.0"
   ]
  },
  {
   "cell_type": "markdown",
   "metadata": {
    "pycharm": {
     "name": "#%% md\n"
    }
   },
   "source": [
    "#### 1. call packages"
   ]
  },
  {
   "cell_type": "code",
   "execution_count": 1,
   "metadata": {
    "pycharm": {
     "name": "#%%\n"
    }
   },
   "outputs": [],
   "source": [
    "import time\n",
    "\n",
    "import frigidum\n",
    "import matplotlib.patches as mpatches\n",
    "import matplotlib.pyplot as plt\n",
    "import numpy as np\n",
    "from IPython.display import display, clear_output\n",
    "from frigidum.examples import tsp\n",
    "from matplotlib.patches import Ellipse\n",
    "from scipy.spatial import distance_matrix\n",
    "from sklearn.cluster import KMeans"
   ]
  },
  {
   "attachments": {},
   "cell_type": "markdown",
   "metadata": {
    "pycharm": {
     "name": "#%% md\n"
    }
   },
   "source": [
    "#### 2. initial parameters"
   ]
  },
  {
   "cell_type": "code",
   "execution_count": 2,
   "metadata": {
    "pycharm": {
     "name": "#%%\n"
    }
   },
   "outputs": [],
   "source": [
    "NUM_GU = 10  # number of ground users\n",
    "\n",
    "X_MIN = 0  # minimum x-axis [meter]\n",
    "X_MAX = 100  # maximum x-axis [meter]\n",
    "Y_MIN = 0  # minimum y-axis [meter]\n",
    "Y_MAX = 100  # maximum y-axis [meter]\n",
    "\n",
    "UAV_ALTITUDE = 10  # altitude of uav [meter]\n",
    "MAX_BEAM_ANGLE = 60  # maximum beam-forming angle [degree]\n",
    "UAV_SPEED = 6  # uav speed [m/s]\n",
    "\n",
    "# calculate maximum beam-forming diameter [meter]\n",
    "MAX_BEAM_DIAMETER = 2 * UAV_ALTITUDE * np.tan(MAX_BEAM_ANGLE * np.pi / 180)\n",
    "\n",
    "# calculate maximum distance between uav and gu [meter]\n",
    "MAX_BEAM_DISTANCE = UAV_ALTITUDE / np.cos(MAX_BEAM_ANGLE * np.pi / 180)\n",
    "\n",
    "X_GRID = 10  # number of x grid\n",
    "Y_GRID = 10  # number of y grid\n",
    "\n",
    "TX_POWER = 32  # transmit power [dBm]\n",
    "F = 1e9  # frequency 1GH [Hz]\n",
    "C = 299792458  # speed of light [m/s]\n",
    "\n",
    "UAV_TX_POWER = 30  # uav's transmit power in [dBm]\n"
   ]
  },
  {
   "attachments": {},
   "cell_type": "markdown",
   "metadata": {
    "pycharm": {
     "name": "#%% md\n"
    }
   },
   "source": [
    "#### 3. calculate receive power based on distance `d`"
   ]
  },
  {
   "cell_type": "code",
   "execution_count": 3,
   "metadata": {
    "pycharm": {
     "name": "#%%\n"
    }
   },
   "outputs": [],
   "source": [
    "def calc_rx_power(d):\n",
    "    # received power [mWh]\n",
    "    return 1 * 10 ** ((TX_POWER - (20 * np.log10((4 * np.pi * d * F) / C))) / 10) * 1000"
   ]
  },
  {
   "attachments": {},
   "cell_type": "markdown",
   "metadata": {
    "pycharm": {
     "name": "#%% md\n"
    }
   },
   "source": [
    "#### 4. generate location of gu"
   ]
  },
  {
   "cell_type": "code",
   "execution_count": 4,
   "metadata": {
    "pycharm": {
     "name": "#%%\n"
    }
   },
   "outputs": [],
   "source": [
    "# generate location of gu randomly x,y,z [meters]\n",
    "gu_x = np.random.uniform(low=X_MIN, high=X_MAX, size=(NUM_GU,))\n",
    "gu_y = np.random.uniform(low=Y_MIN, high=Y_MAX, size=(NUM_GU,))\n",
    "gu_z = np.zeros((NUM_GU,))\n",
    "\n",
    "\n",
    "# given location of gu\n",
    "gu_x = np.array([\n",
    "    9.04330840e+01, 9.96817955e+01, 7.63398634e+01, 8.98037139e+01, 7.22245261e+01,\n",
    "    8.36605843e+01, 10.27225613e-0, 4.05986793e+01, 5.80821532e+01, 9.93099118e+01\n",
    "])\n",
    "\n",
    "gu_y = np.array([\n",
    "    13.73014649e+0, 78.77941627, 60.47122501, 71.19842815, 70.31373701,\n",
    "    77.84923832, 60.52589075, 10.41285009, 85.11544206, 46.38436827\n",
    "])\n",
    "\n",
    "gu_z = np.array([0., 0., 0., 0., 0., 0., 0., 0., 0., 0.])\n",
    "\n",
    "\n",
    "gu_xyz = np.array((gu_x, gu_y, gu_z)).T"
   ]
  },
  {
   "attachments": {},
   "cell_type": "markdown",
   "metadata": {
    "pycharm": {
     "name": "#%% md\n"
    }
   },
   "source": [
    "#### 5. use `k-mean` algorithm\n",
    "\n",
    "to find the center head of the gu, i use `k-mean` algorithm"
   ]
  },
  {
   "cell_type": "code",
   "execution_count": 5,
   "metadata": {
    "pycharm": {
     "name": "#%%\n"
    }
   },
   "outputs": [],
   "source": [
    "# i use k-mean algorithm \n",
    "# to find the center with 7 cluster-head\n",
    "kmeans = KMeans(\n",
    "    n_clusters=7,\n",
    "    n_init=\"auto\"\n",
    ").fit(gu_xyz)\n",
    "\n",
    "centers = kmeans.cluster_centers_\n",
    "clear_output()"
   ]
  },
  {
   "cell_type": "markdown",
   "metadata": {
    "pycharm": {
     "name": "#%% md\n"
    }
   },
   "source": [
    "#### 6. user `frigidum` algorithm\n",
    "\n",
    "to find the route i use `frigidum` algorithm"
   ]
  },
  {
   "cell_type": "code",
   "execution_count": 6,
   "metadata": {
    "pycharm": {
     "name": "#%%\n"
    }
   },
   "outputs": [],
   "source": [
    "\n",
    "# insert the center of the map as initial point\n",
    "points = np.vstack(([[50, 50]], centers[:, 0:2]))\n",
    "\n",
    "# i use frigidum package to find the optimal route\n",
    "# can be used DAESOL's algorithm\n",
    "tsp.nodes = points\n",
    "tsp.nodes_count = len(points)\n",
    "tsp.dist_eu = distance_matrix(points, points)\n",
    "\n",
    "local_opt = frigidum.sa(\n",
    "    random_start=tsp.random_start,\n",
    "    objective_function=tsp.objective_function,\n",
    "    neighbours=[\n",
    "        tsp.euclidian_bomb_and_fix,\n",
    "        tsp.euclidian_nuke_and_fix,\n",
    "        tsp.route_bomb_and_fix,\n",
    "        tsp.route_nuke_and_fix,\n",
    "    ],\n",
    "    copy_state=frigidum.annealing.naked,\n",
    "    T_start=5,\n",
    "    alpha=.8,\n",
    "    T_stop=0.01,\n",
    "    repeats=10 ** 2,\n",
    "    post_annealing=tsp.local_search_2opt\n",
    ")\n",
    "\n",
    "clear_output()"
   ]
  },
  {
   "cell_type": "code",
   "execution_count": 7,
   "metadata": {
    "pycharm": {
     "name": "#%%\n"
    }
   },
   "outputs": [],
   "source": [
    "# get the route variable \n",
    "tmp_route = local_opt[0]\n",
    "\n",
    "# make the loop by adding the starting point \n",
    "# as the end point\n",
    "route = np.append(\n",
    "    np.roll(tmp_route, -np.squeeze(np.argwhere(tmp_route == 0))), 0\n",
    ")\n"
   ]
  },
  {
   "cell_type": "markdown",
   "metadata": {
    "pycharm": {
     "name": "#%% md\n"
    }
   },
   "source": [
    "#### 7.  make uav flying only\n",
    "\n",
    "Note: there is no hovering duration here"
   ]
  },
  {
   "cell_type": "code",
   "execution_count": 40,
   "metadata": {
    "pycharm": {
     "name": "#%%\n"
    }
   },
   "outputs": [],
   "source": [
    "# calculate flying direction vectors\n",
    "direction = {}\n",
    "norm_direction = {}\n",
    "for i in range(len(route) - 1):\n",
    "    direction[i] = points[route[i + 1], :] - points[route[i], :]\n",
    "    norm_direction[i] = direction[i] / np.linalg.norm(direction[i])\n"
   ]
  },
  {
   "cell_type": "markdown",
   "metadata": {
    "pycharm": {
     "name": "#%% md\n"
    }
   },
   "source": []
  },
  {
   "cell_type": "code",
   "execution_count": 9,
   "metadata": {
    "collapsed": false,
    "pycharm": {
     "name": "#%%\n"
    }
   },
   "outputs": [
    {
     "data": {
      "image/png": "[encoded data removed]",
      "text/plain": [
       "<Figure size 600x600 with 1 Axes>"
      ]
     },
     "metadata": {},
     "output_type": "display_data"
    }
   ],
   "source": [
    "# call the figure\n",
    "fig, ax = plt.subplots()\n",
    "fig.set_figwidth(6)\n",
    "fig.set_figheight(6)\n",
    "\n",
    "# design the axis\n",
    "ax.set_xlabel(\"x-axis [m]\")\n",
    "ax.set_ylabel(\"y-axis [m]\")\n",
    "ax.set_xticks(np.arange(X_MIN, X_MAX + 1, X_GRID))\n",
    "ax.set_yticks(np.arange(Y_MIN, Y_MAX + 1, Y_GRID))\n",
    "ax.set_xlim(X_MIN, X_MAX)\n",
    "ax.set_ylim(Y_MIN, Y_MAX)\n",
    "ax.grid(False)\n",
    "\n",
    "# initial the batter of gus\n",
    "gu_bat = np.zeros((NUM_GU,))\n",
    "\n",
    "# plot initial location of gus with batteries\n",
    "current_batt = []\n",
    "for i in range(NUM_GU):\n",
    "    ax.scatter(x=gu_x[i], y=gu_y[i], c=\"blue\")\n",
    "    ax.text(x=gu_x[i] - 3.5, y=gu_y[i] - 4, s=f\"GU-{i}\")\n",
    "    current_batt.append(\n",
    "        ax.text(x=gu_x[i] - 6, y=gu_y[i] - 7, s=f\"{gu_bat[i]:.0f}mWs\"))\n",
    "\n",
    "# initial variables\n",
    "t = 0  # time [second]\n",
    "\n",
    "circle_points = np.vstack((points, [[50., 50.]]))\n",
    "\n",
    "index = 0  # index of the route\n",
    "\n",
    "GU_BAT_MAX = 200  # maximum battery capacity [mWs]\n",
    "\n",
    "# initial uav location at time t = 0s\n",
    "uav_time = {0: np.array([50., 50.])}\n",
    "# uav_time[t] = np.squeeze(points[[route[0],], :])\n",
    "\n",
    "# plot real time update trajectory\n",
    "while True:\n",
    "    # for t in range(150):\n",
    "    t = t + 1  # increase time t\n",
    "\n",
    "    # update the next location of uav\n",
    "    uav_time[t] = np.squeeze(uav_time[t - 1] + UAV_SPEED * norm_direction[index])\n",
    "\n",
    "    # calculate the next location vs. the end point\n",
    "    tmp_vec = (uav_time[t] - circle_points[route[index + 1], :]) / (\n",
    "        np.linalg.norm(uav_time[t] - circle_points[route[index + 1], :]))\n",
    "\n",
    "    if index < len(circle_points) - 2:\n",
    "        # calculate distance\n",
    "        distance_uav2gu = distance_matrix(\n",
    "            [np.append(uav_time[t - 1], UAV_ALTITUDE)], gu_xyz)\n",
    "\n",
    "        # calculate receive power\n",
    "        rx_power = calc_rx_power(distance_uav2gu)\n",
    "\n",
    "        # get index\n",
    "        tmp_a = (distance_uav2gu <= 0.8 * MAX_BEAM_DISTANCE)[0] > 0\n",
    "\n",
    "        # update based index\n",
    "        gu_bat[tmp_a] += (rx_power * (distance_uav2gu <= MAX_BEAM_DISTANCE))[0, tmp_a]\n",
    "        # gu_bat[tmp_a] += rx_power[0, tmp_a]\n",
    "\n",
    "        for i in range(len(gu_bat)):\n",
    "            if gu_bat[i] > GU_BAT_MAX:\n",
    "                gu_bat[i] = GU_BAT_MAX\n",
    "\n",
    "        # if next location is longer than end point\n",
    "        # thus, change direction\n",
    "\n",
    "        if np.all(np.abs(tmp_vec - norm_direction[index]) < 1e-3):\n",
    "            if np.min(gu_bat[tmp_a]) < GU_BAT_MAX:\n",
    "                uav_time[t] = circle_points[route[index + 1], :]\n",
    "            else:\n",
    "                uav_time[t] = circle_points[route[index + 1], :]\n",
    "                index = index + 1\n",
    "\n",
    "    if index == len(circle_points) - 2:\n",
    "        if np.all(np.abs(tmp_vec - norm_direction[index]) < 1e-3):\n",
    "            uav_time[t] = circle_points[route[index + 1], :]\n",
    "            index = index + 1\n",
    "\n",
    "    # update title\n",
    "    ax.set_title(f\"Simulation Result [ t = {t}s ]\")\n",
    "\n",
    "    # plot arrow\n",
    "    arrow = mpatches.FancyArrowPatch(\n",
    "        (uav_time[t - 1][0], uav_time[t - 1][1]),\n",
    "        (uav_time[t][0], uav_time[t][1]),\n",
    "        edgecolor=\"none\",\n",
    "        facecolor=\"green\",\n",
    "        mutation_scale=20,\n",
    "        zorder=0,\n",
    "        alpha=0.2,\n",
    "    )\n",
    "    tmp = ax.add_patch(arrow)\n",
    "\n",
    "    # scatter uav location\n",
    "    scatter_uav = ax.scatter(\n",
    "        x=uav_time[t][0],\n",
    "        y=uav_time[t][1],\n",
    "        c=\"red\",\n",
    "        marker=\"s\",\n",
    "        zorder=1,\n",
    "        alpha=0.2,\n",
    "    )\n",
    "\n",
    "    # remove the previous beam circle and plot the new one\n",
    "    if t > 1:\n",
    "        beam_circle.remove()\n",
    "\n",
    "    # update beam circle\n",
    "    beam_circle = Ellipse(\n",
    "        xy=(uav_time[t][0], uav_time[t][1]),\n",
    "        width=MAX_BEAM_DIAMETER,\n",
    "        height=MAX_BEAM_DIAMETER,\n",
    "        angle=0,\n",
    "        edgecolor=\"none\",\n",
    "        facecolor=\"orange\",\n",
    "        alpha=0.2,\n",
    "        zorder=0,\n",
    "    )\n",
    "    uav_beam = ax.add_patch(beam_circle)\n",
    "\n",
    "    # remove the previous battery text\n",
    "    for i in range(NUM_GU):\n",
    "        current_batt[i].remove()\n",
    "        current_batt[i] = ax.text(\n",
    "            x=gu_x[i] - 6,\n",
    "            y=gu_y[i] - 7,\n",
    "            s=f\"{gu_bat[i]:.0f}mWs\",\n",
    "            zorder=10,\n",
    "        )\n",
    "\n",
    "    # update the figure\n",
    "    display(fig)\n",
    "    clear_output(wait=True)\n",
    "\n",
    "    # set the time sleep\n",
    "    time.sleep(0.0001)\n",
    "\n",
    "    if index == len(circle_points) - 1:\n",
    "        break\n"
   ]
  }
 ],
 "metadata": {
  "kernelspec": {
   "display_name": "python310",
   "language": "python",
   "name": "python3"
  },
  "language_info": {
   "codemirror_mode": {
    "name": "ipython",
    "version": 3
   },
   "file_extension": ".py",
   "mimetype": "text/x-python",
   "name": "python",
   "nbconvert_exporter": "python",
   "pygments_lexer": "ipython3",
   "version": "3.10.11"
  },
  "orig_nbformat": 4
 },
 "nbformat": 4,
 "nbformat_minor": 2
}

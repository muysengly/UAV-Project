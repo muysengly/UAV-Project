{
 "cells": [
  {
   "cell_type": "code",
   "execution_count": 12,
   "outputs": [],
   "source": [
    "import pygad\n",
    "import numpy\n",
    "import numpy as np\n"
   ],
   "metadata": {
    "collapsed": false,
    "ExecuteTime": {
     "end_time": "2023-08-17T04:53:44.011936100Z",
     "start_time": "2023-08-17T04:53:44.002279300Z"
    }
   }
  },
  {
   "cell_type": "code",
   "execution_count": 13,
   "outputs": [],
   "source": [
    "function_inputs = [4, -2, 3.5, 5, -11, -4.7]\n",
    "desired_output = 44\n",
    "\n",
    "def fitness_func(ga_instance, solution, solution_idx):\n",
    "    output = numpy.sum(solution * function_inputs)\n",
    "    fitness = 1.0 / numpy.abs(output - desired_output)\n",
    "    return fitness"
   ],
   "metadata": {
    "collapsed": false,
    "ExecuteTime": {
     "end_time": "2023-08-17T04:53:44.029271700Z",
     "start_time": "2023-08-17T04:53:44.011936100Z"
    }
   }
  },
  {
   "cell_type": "code",
   "execution_count": 14,
   "outputs": [],
   "source": [
    "fitness_function = fitness_func\n",
    "\n",
    "num_generations = 50\n",
    "num_parents_mating = 4\n",
    "\n",
    "sol_per_pop = 8\n",
    "num_genes = len(function_inputs)\n",
    "\n",
    "init_range_low = -2\n",
    "init_range_high = 5\n",
    "\n",
    "parent_selection_type = \"sss\"\n",
    "keep_parents = 1\n",
    "\n",
    "crossover_type = \"single_point\"\n",
    "\n",
    "mutation_type = \"random\"\n",
    "mutation_percent_genes = 10"
   ],
   "metadata": {
    "collapsed": false,
    "ExecuteTime": {
     "end_time": "2023-08-17T04:53:44.042283500Z",
     "start_time": "2023-08-17T04:53:44.027269900Z"
    }
   }
  },
  {
   "cell_type": "code",
   "execution_count": 15,
   "outputs": [],
   "source": [
    "ga_instance = pygad.GA(\n",
    "    num_generations=num_generations,\n",
    "    num_parents_mating=num_parents_mating,\n",
    "    fitness_func=fitness_function,\n",
    "    sol_per_pop=sol_per_pop,\n",
    "    num_genes=num_genes,\n",
    "    init_range_low=init_range_low,\n",
    "    init_range_high=init_range_high,\n",
    "    parent_selection_type=parent_selection_type,\n",
    "    keep_parents=keep_parents,\n",
    "    crossover_type=crossover_type,\n",
    "    mutation_type=mutation_type,\n",
    "    mutation_percent_genes=mutation_percent_genes\n",
    ")"
   ],
   "metadata": {
    "collapsed": false,
    "ExecuteTime": {
     "end_time": "2023-08-17T04:53:44.056839500Z",
     "start_time": "2023-08-17T04:53:44.042283500Z"
    }
   }
  },
  {
   "cell_type": "code",
   "execution_count": 16,
   "outputs": [],
   "source": [
    "ga_instance.run()"
   ],
   "metadata": {
    "collapsed": false,
    "ExecuteTime": {
     "end_time": "2023-08-17T04:53:44.086871500Z",
     "start_time": "2023-08-17T04:53:44.056839500Z"
    }
   }
  },
  {
   "cell_type": "code",
   "execution_count": 17,
   "outputs": [
    {
     "name": "stdout",
     "output_type": "stream",
     "text": [
      "Parameters of the best solution : [ 1.69158722 -0.60851438  1.91812946  1.59620657 -1.29663389 -1.49359371]\n",
      "Fitness value of the best solution = 25.462659569252025\n",
      "Predicted output based on the best solution : 43.960726804783285\n"
     ]
    }
   ],
   "source": [
    "solution, solution_fitness, solution_idx = ga_instance.best_solution()\n",
    "print(\"Parameters of the best solution : {solution}\".format(solution=solution))\n",
    "print(\"Fitness value of the best solution = {solution_fitness}\".format(solution_fitness=solution_fitness))\n",
    "\n",
    "prediction = numpy.sum(numpy.array(function_inputs) * solution)\n",
    "print(\"Predicted output based on the best solution : {prediction}\".format(prediction=prediction))"
   ],
   "metadata": {
    "collapsed": false,
    "ExecuteTime": {
     "end_time": "2023-08-17T04:53:44.101881100Z",
     "start_time": "2023-08-17T04:53:44.087872200Z"
    }
   }
  }
 ],
 "metadata": {
  "kernelspec": {
   "display_name": "Python 3",
   "language": "python",
   "name": "python3"
  },
  "language_info": {
   "codemirror_mode": {
    "name": "ipython",
    "version": 2
   },
   "file_extension": ".py",
   "mimetype": "text/x-python",
   "name": "python",
   "nbconvert_exporter": "python",
   "pygments_lexer": "ipython2",
   "version": "2.7.6"
  }
 },
 "nbformat": 4,
 "nbformat_minor": 0
}

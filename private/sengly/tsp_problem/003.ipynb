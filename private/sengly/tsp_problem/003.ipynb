{
 "cells": [
  {
   "cell_type": "code",
   "execution_count": 6,
   "metadata": {
    "collapsed": true,
    "ExecuteTime": {
     "end_time": "2023-08-17T07:06:44.869132200Z",
     "start_time": "2023-08-17T07:06:44.819086Z"
    }
   },
   "outputs": [
    {
     "ename": "KeyError",
     "evalue": "1",
     "output_type": "error",
     "traceback": [
      "\u001B[1;31m---------------------------------------------------------------------------\u001B[0m",
      "\u001B[1;31mKeyError\u001B[0m                                  Traceback (most recent call last)",
      "Cell \u001B[1;32mIn[6], line 79\u001B[0m\n\u001B[0;32m     71\u001B[0m tsp \u001B[38;5;241m=\u001B[39m [\n\u001B[0;32m     72\u001B[0m     [\u001B[38;5;241m-\u001B[39m\u001B[38;5;241m1\u001B[39m, \u001B[38;5;241m10\u001B[39m, \u001B[38;5;241m15\u001B[39m, \u001B[38;5;241m20\u001B[39m],\n\u001B[0;32m     73\u001B[0m     [\u001B[38;5;241m10\u001B[39m, \u001B[38;5;241m-\u001B[39m\u001B[38;5;241m1\u001B[39m, \u001B[38;5;241m35\u001B[39m, \u001B[38;5;241m25\u001B[39m],\n\u001B[0;32m     74\u001B[0m     [\u001B[38;5;241m15\u001B[39m, \u001B[38;5;241m35\u001B[39m, \u001B[38;5;241m-\u001B[39m\u001B[38;5;241m1\u001B[39m, \u001B[38;5;241m30\u001B[39m],\n\u001B[0;32m     75\u001B[0m     [\u001B[38;5;241m20\u001B[39m, \u001B[38;5;241m25\u001B[39m, \u001B[38;5;241m30\u001B[39m, \u001B[38;5;241m-\u001B[39m\u001B[38;5;241m1\u001B[39m]\n\u001B[0;32m     76\u001B[0m ]\n\u001B[0;32m     78\u001B[0m \u001B[38;5;66;03m# Function Call\u001B[39;00m\n\u001B[1;32m---> 79\u001B[0m \u001B[43mfindMinRoute\u001B[49m\u001B[43m(\u001B[49m\u001B[43mtsp\u001B[49m\u001B[43m)\u001B[49m\n",
      "Cell \u001B[1;32mIn[6], line 34\u001B[0m, in \u001B[0;36mfindMinRoute\u001B[1;34m(tsp)\u001B[0m\n\u001B[0;32m     29\u001B[0m     \u001B[38;5;28;01mbreak\u001B[39;00m\n\u001B[0;32m     31\u001B[0m \u001B[38;5;66;03m# If this path is unvisited then\u001B[39;00m\n\u001B[0;32m     32\u001B[0m \u001B[38;5;66;03m# and if the cost is less then\u001B[39;00m\n\u001B[0;32m     33\u001B[0m \u001B[38;5;66;03m# update the cost\u001B[39;00m\n\u001B[1;32m---> 34\u001B[0m \u001B[38;5;28;01mif\u001B[39;00m j \u001B[38;5;241m!=\u001B[39m i \u001B[38;5;129;01mand\u001B[39;00m (\u001B[43mvisitedRouteList\u001B[49m\u001B[43m[\u001B[49m\u001B[43mj\u001B[49m\u001B[43m]\u001B[49m \u001B[38;5;241m==\u001B[39m \u001B[38;5;241m0\u001B[39m):\n\u001B[0;32m     35\u001B[0m     \u001B[38;5;28;01mif\u001B[39;00m tsp[i][j] \u001B[38;5;241m<\u001B[39m \u001B[38;5;28mmin\u001B[39m:\n\u001B[0;32m     36\u001B[0m         \u001B[38;5;28mmin\u001B[39m \u001B[38;5;241m=\u001B[39m tsp[i][j]\n",
      "\u001B[1;31mKeyError\u001B[0m: 1"
     ]
    }
   ],
   "source": [
    "# Python3 program for the above approach\n",
    "\n",
    "from typing import DefaultDict\n",
    "\n",
    "INT_MAX = 2147483647\n",
    "\n",
    "\n",
    "# Function to find the minimum\n",
    "# cost path for all the paths\n",
    "def findMinRoute(tsp):\n",
    "    sum = 0\n",
    "    counter = 0\n",
    "    j = 0\n",
    "    i = 0\n",
    "    min = INT_MAX\n",
    "    visitedRouteList = DefaultDict(int)\n",
    "\n",
    "    # Starting from the 0th indexed\n",
    "    # city i.e., the first city\n",
    "    visitedRouteList[0] = 1\n",
    "    route = [0] * len(tsp)\n",
    "\n",
    "    # Traverse the adjacency\n",
    "    # matrix tsp[][]\n",
    "    while i < len(tsp) and j < len(tsp[i]):\n",
    "\n",
    "        # Corner of the Matrix\n",
    "        if counter >= len(tsp[i]) - 1:\n",
    "            break\n",
    "\n",
    "        # If this path is unvisited then\n",
    "        # and if the cost is less then\n",
    "        # update the cost\n",
    "        if j != i and (visitedRouteList[j] == 0):\n",
    "            if tsp[i][j] < min:\n",
    "                min = tsp[i][j]\n",
    "                route[counter] = j + 1\n",
    "\n",
    "        j += 1\n",
    "\n",
    "        # Check all paths from the\n",
    "        # ith indexed city\n",
    "        if j == len(tsp[i]):\n",
    "            sum += min\n",
    "            min = INT_MAX\n",
    "            visitedRouteList[route[counter] - 1] = 1\n",
    "            j = 0\n",
    "            i = route[counter] - 1\n",
    "            counter += 1\n",
    "\n",
    "    # Update the ending city in array\n",
    "    # from city which was last visited\n",
    "    i = route[counter - 1] - 1\n",
    "\n",
    "    for j in range(len(tsp)):\n",
    "\n",
    "        if (i != j) and tsp[i][j] < min:\n",
    "            min = tsp[i][j]\n",
    "            route[counter] = j + 1\n",
    "\n",
    "    sum += min\n",
    "\n",
    "    # Started from the node where\n",
    "    # we finished as well.\n",
    "    print(\"Minimum Cost is :\", sum)\n",
    "\n",
    "    print(route)\n",
    "\n",
    "\n",
    "# Input Matrix\n",
    "tsp = [\n",
    "    [-1, 10, 15, 20],\n",
    "    [10, -1, 35, 25],\n",
    "    [15, 35, -1, 30],\n",
    "    [20, 25, 30, -1]\n",
    "]\n",
    "\n",
    "# Function Call\n",
    "findMinRoute(tsp)\n"
   ]
  }
 ],
 "metadata": {
  "kernelspec": {
   "display_name": "Python 3",
   "language": "python",
   "name": "python3"
  },
  "language_info": {
   "codemirror_mode": {
    "name": "ipython",
    "version": 2
   },
   "file_extension": ".py",
   "mimetype": "text/x-python",
   "name": "python",
   "nbconvert_exporter": "python",
   "pygments_lexer": "ipython2",
   "version": "2.7.6"
  }
 },
 "nbformat": 4,
 "nbformat_minor": 0
}

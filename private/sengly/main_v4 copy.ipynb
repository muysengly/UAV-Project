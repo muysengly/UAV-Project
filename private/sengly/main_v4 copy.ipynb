{
 "cells": [
  {
   "attachments": {},
   "cell_type": "markdown",
   "metadata": {
    "pycharm": {
     "name": "#%% md\n"
    }
   },
   "source": [
    "# Project UAV\n",
    "\n",
    "Version 3.0\n"
   ]
  },
  {
   "cell_type": "markdown",
   "metadata": {
    "pycharm": {
     "name": "#%% md\n"
    }
   },
   "source": [
    "#### 1. call packages"
   ]
  },
  {
   "cell_type": "code",
   "execution_count": 1,
   "metadata": {
    "pycharm": {
     "name": "#%%\n"
    }
   },
   "outputs": [],
   "source": [
    "import time\n",
    "\n",
    "import numpy as np\n",
    "\n",
    "import matplotlib.pyplot as plt\n",
    "from matplotlib.patches import Ellipse\n",
    "import matplotlib.patches as mpatches\n",
    "\n",
    "from scipy.spatial import distance_matrix\n",
    "\n",
    "from sklearn.cluster import KMeans\n",
    "\n",
    "from IPython.display import display, clear_output\n",
    "\n",
    "import frigidum\n",
    "from frigidum.examples import tsp"
   ]
  },
  {
   "attachments": {},
   "cell_type": "markdown",
   "metadata": {
    "pycharm": {
     "name": "#%% md\n"
    }
   },
   "source": [
    "#### 2. initial parameters\n"
   ]
  },
  {
   "cell_type": "code",
   "execution_count": 2,
   "metadata": {
    "pycharm": {
     "name": "#%%\n"
    }
   },
   "outputs": [],
   "source": [
    "NUM_GU = 10  # number of ground users\n",
    "\n",
    "X_MIN = 0  # minimum x-axis [meter]\n",
    "X_MAX = 100  # maximum x-axis [meter]\n",
    "Y_MIN = 0  # minimum y-axis [meter]\n",
    "Y_MAX = 100  # maximum y-axis [mseter]\n",
    "\n",
    "UAV_ALTITUDE = 10  # altitude of uav [meter]\n",
    "MAX_BEAM_ANGLE = 60  # maximum beamforming angle [degree]\n",
    "UAV_SPEED = 6 # uav speed [m/s]\n",
    "\n",
    "# calculate maximum beamforming diameter [meter]\n",
    "MAX_BEAM_DIAMETER = 2 * UAV_ALTITUDE * np.tan(MAX_BEAM_ANGLE * np.pi / 180)\n",
    "\n",
    "# calculate maximum distance between uav and gu [meter]\n",
    "MAX_BEAM_DISTANCE = UAV_ALTITUDE / np.cos(MAX_BEAM_ANGLE * np.pi / 180)\n",
    "\n",
    "X_GRID = 10  # number of x grid\n",
    "Y_GRID = 10  # number of y grid\n",
    "\n",
    "\n",
    "TX_POWER = 32  # transmit power [dBm]\n",
    "F = 1e9  # frequency 1GH [Hz]\n",
    "C = 299792458  # speed of light [m/s]\n",
    "\n",
    "UAV_TX_POWER = 30  # uav's transmit power in [dBm]\n"
   ]
  },
  {
   "attachments": {},
   "cell_type": "markdown",
   "metadata": {
    "pycharm": {
     "name": "#%% md\n"
    }
   },
   "source": [
    "#### 3. calculate receive power based on distance `d`"
   ]
  },
  {
   "cell_type": "code",
   "execution_count": 3,
   "metadata": {
    "pycharm": {
     "name": "#%%\n"
    }
   },
   "outputs": [],
   "source": [
    "def calc_rx_power(d):\n",
    "    # received power [mWh]\n",
    "    return 1*10**((TX_POWER - (20*np.log10((4*np.pi*d*F)/C)))/10) * 1000"
   ]
  },
  {
   "attachments": {},
   "cell_type": "markdown",
   "metadata": {
    "pycharm": {
     "name": "#%% md\n"
    }
   },
   "source": [
    "#### 4. generate location of gu"
   ]
  },
  {
   "cell_type": "code",
   "execution_count": 4,
   "metadata": {
    "pycharm": {
     "name": "#%%\n"
    }
   },
   "outputs": [
    {
     "data": {
      "text/plain": "array([[90.433084  , 13.73014649,  0.        ],\n       [99.6817955 , 78.77941627,  0.        ],\n       [76.3398634 , 60.47122501,  0.        ],\n       [89.8037139 , 71.19842815,  0.        ],\n       [72.2245261 , 70.31373701,  0.        ],\n       [83.6605843 , 77.84923832,  0.        ],\n       [10.27225613, 60.52589075,  0.        ],\n       [40.5986793 , 10.41285009,  0.        ],\n       [58.0821532 , 85.11544206,  0.        ],\n       [99.3099118 , 46.38436827,  0.        ]])"
     },
     "execution_count": 4,
     "metadata": {},
     "output_type": "execute_result"
    }
   ],
   "source": [
    "# generate ground user location randomly x,y,z [meters]\n",
    "gu_x = np.random.uniform(low=X_MIN, high=X_MAX, size=(NUM_GU,))\n",
    "gu_y = np.random.uniform(low=Y_MIN, high=Y_MAX, size=(NUM_GU,))\n",
    "gu_z = np.zeros((NUM_GU,))\n",
    "\n",
    "gu_x = np.array([\n",
    "    9.04330840e+01, 9.96817955e+01, 7.63398634e+01, 8.98037139e+01, 7.22245261e+01, \n",
    "    8.36605843e+01, 10.27225613e-0, 4.05986793e+01, 5.80821532e+01, 9.93099118e+01\n",
    "])\n",
    "\n",
    "gu_y = np.array([\n",
    "    13.73014649e+0, 78.77941627, 60.47122501, 71.19842815, 70.31373701, \n",
    "    77.84923832, 60.52589075, 10.41285009, 85.11544206, 46.38436827\n",
    "])\n",
    "\n",
    "gu_z = np.array([0., 0., 0., 0., 0., 0., 0., 0., 0., 0.])\n",
    "\n",
    "gu_xyz = np.array((gu_x,gu_y,gu_z)).T\n",
    "\n",
    "gu_xyz\n"
   ]
  },
  {
   "attachments": {},
   "cell_type": "markdown",
   "metadata": {
    "pycharm": {
     "name": "#%% md\n"
    }
   },
   "source": [
    "#### 5. use `k-mean` algorithm\n",
    "\n",
    "to find the center head of the gu, i use `k-mean` algirhtm"
   ]
  },
  {
   "cell_type": "code",
   "execution_count": 5,
   "metadata": {
    "pycharm": {
     "name": "#%%\n"
    }
   },
   "outputs": [
    {
     "data": {
      "text/plain": "array([[10.27225613, 60.52589075,  0.        ],\n       [91.0486979 , 75.94236091,  0.        ],\n       [40.5986793 , 10.41285009,  0.        ],\n       [99.3099118 , 46.38436827,  0.        ],\n       [58.0821532 , 85.11544206,  0.        ],\n       [90.433084  , 13.73014649,  0.        ],\n       [74.28219475, 65.39248101,  0.        ]])"
     },
     "execution_count": 5,
     "metadata": {},
     "output_type": "execute_result"
    }
   ],
   "source": [
    "# i use k-mean algorithm \n",
    "# to find the center with 7 cluster-head\n",
    "kmeans = KMeans(\n",
    "    n_clusters=7,\n",
    "    n_init=\"auto\"\n",
    ").fit(gu_xyz)\n",
    "\n",
    "centers = kmeans.cluster_centers_\n",
    "clear_output(False)\n",
    "\n",
    "centers"
   ]
  },
  {
   "cell_type": "markdown",
   "metadata": {
    "pycharm": {
     "name": "#%% md\n"
    }
   },
   "source": [
    "#### 6. user `frigidum` algorithm\n",
    "\n",
    "to find the route i use `frigidum` algorithm"
   ]
  },
  {
   "cell_type": "code",
   "execution_count": 6,
   "metadata": {
    "pycharm": {
     "name": "#%%\n"
    }
   },
   "outputs": [
    {
     "name": "stderr",
     "output_type": "stream",
     "text": [
      "T: 0.010, M: 0.00, O_min: 295.3569, O_current: 295.3569: 100%|██████████| 28/28 [00:03<00:00,  8.43cooling/s]"
     ]
    },
    {
     "name": "stdout",
     "output_type": "stream",
     "text": [
      "---\n",
      "Neighbour Statistics: \n",
      "(proportion of proposals which got accepted *and* changed the objective function)\n",
      "   euclidian_bomb_and_fix           : 0.028190\n",
      "   euclidian_nuke_and_fix           : 0.049645\n",
      "   route_bomb_and_fix               : 0.036232\n",
      "   route_nuke_and_fix               : 0.017784\n",
      "---\n",
      "(Local) Minimum Objective Value Found: \n",
      "   295.35688638\n"
     ]
    },
    {
     "name": "stderr",
     "output_type": "stream",
     "text": [
      "\n"
     ]
    }
   ],
   "source": [
    "# insert the center of the map as initial point \n",
    "points = np.vstack(([[50, 50]], centers[:, 0:2]))\n",
    "\n",
    "# i use frigidum package to find the optimal route\n",
    "# can be used DAESOL's algorithm\n",
    "tsp.nodes = points\n",
    "tsp.nodes_count = len(points)\n",
    "tsp.dist_eu = distance_matrix(points, points)\n",
    "\n",
    "local_opt = frigidum.sa(\n",
    "    random_start=tsp.random_start,\n",
    "    objective_function=tsp.objective_function,\n",
    "    neighbours=[\n",
    "        tsp.euclidian_bomb_and_fix,\n",
    "        tsp.euclidian_nuke_and_fix,\n",
    "        tsp.route_bomb_and_fix,\n",
    "        tsp.route_nuke_and_fix,\n",
    "    ],\n",
    "    copy_state=frigidum.annealing.naked,\n",
    "    T_start=5,\n",
    "    alpha=.8,\n",
    "    T_stop=0.01,\n",
    "    repeats=10**2,\n",
    "    post_annealing=tsp.local_search_2opt\n",
    ")"
   ]
  },
  {
   "cell_type": "code",
   "execution_count": 7,
   "metadata": {
    "pycharm": {
     "name": "#%%\n"
    }
   },
   "outputs": [
    {
     "data": {
      "text/plain": "array([0, 1, 5, 7, 2, 4, 6, 3, 0])"
     },
     "execution_count": 7,
     "metadata": {},
     "output_type": "execute_result"
    }
   ],
   "source": [
    "# get the route variable \n",
    "tmp_route = local_opt[0]\n",
    "\n",
    "# make the loop by adding the starting point \n",
    "# as the end point\n",
    "route = np.append(\n",
    "    np.roll(tmp_route, -np.squeeze(np.argwhere(tmp_route == 0))), 0)\n",
    "\n",
    "route"
   ]
  },
  {
   "cell_type": "markdown",
   "metadata": {
    "pycharm": {
     "name": "#%% md\n"
    }
   },
   "source": [
    "#### 7.  make uav flying only\n",
    "\n",
    "Note: there is no hovering duration here"
   ]
  },
  {
   "cell_type": "code",
   "execution_count": 8,
   "metadata": {
    "pycharm": {
     "name": "#%%\n"
    }
   },
   "outputs": [],
   "source": [
    "# calculate flying direction vectors\n",
    "direction = {}\n",
    "norm_direction = {}\n",
    "for i in range(len(route) - 1):\n",
    "    direction[i] = points[route[i+1], :] - points[route[i], :]\n",
    "    norm_direction[i] = direction[i]/np.linalg.norm(direction[i])\n"
   ]
  },
  {
   "cell_type": "code",
   "execution_count": 9,
   "metadata": {
    "pycharm": {
     "name": "#%%\n"
    }
   },
   "outputs": [],
   "source": [
    "# initial variables\n",
    "t = 0  # time [second]\n",
    "index = 0  # index of the route\n",
    "\n",
    "GU_BAT_MAX = 200\n",
    "\n",
    "gu_bat = np.zeros((NUM_GU,))\n",
    "\n",
    "HOVER_DURATION = 20\n",
    "uav_hov_dur = np.append(HOVER_DURATION*np.ones(len(centers)), 0)\n",
    "\n",
    "# initial uav location at time t = 0s\n",
    "uav_time = {}\n",
    "uav_time[t] = np.squeeze(points[[route[0],], :])\n",
    "\n",
    "\n",
    "\n",
    "\n",
    "\n",
    "while True:\n",
    "# for t in np.arange(0, 50):\n",
    "\n",
    "    t += 1  # increase time t\n",
    "\n",
    "    # update the next location of uav\n",
    "    uav_time[t] = np.squeeze(uav_time[t-1] + UAV_SPEED*norm_direction[index])\n",
    "\n",
    "    # calculate the next location vs. the end point\n",
    "    tmp = (uav_time[t] - points[route[index+1], :]) / \\\n",
    "        np.linalg.norm(uav_time[t] - points[route[index+1], :])\n",
    "\n",
    "    # calculate distance\n",
    "    distance_uav2gu = distance_matrix(\n",
    "        [np.append(uav_time[t], UAV_ALTITUDE)], gu_xyz)\n",
    "\n",
    "    # calculate receive power\n",
    "    rx_power = calc_rx_power(distance_uav2gu)\n",
    "\n",
    "    # update the gu battery base on the maximum distance\n",
    "    gu_bat += (rx_power*(distance_uav2gu <= MAX_BEAM_DISTANCE))[0]\n",
    "\n",
    "    # print((rx_power*(distance_uav2gu <= MAX_BEAM_DISTANCE))[0])\n",
    "\n",
    "    # if next location is longer than end point\n",
    "    # thus, change direction\n",
    "    if np.all(np.abs(tmp - norm_direction[index]) < 1e-3):\n",
    "\n",
    "        uav_time[t] = points[route[index+1], :]\n",
    "\n",
    "        if index < len(centers):\n",
    "\n",
    "            if np.all(gu_bat[(distance_uav2gu <= MAX_BEAM_DISTANCE)[0]] > GU_BAT_MAX):\n",
    "                # gu_bat[index] = GU_BAT_MAX\n",
    "                \n",
    "                index = index + 1\n",
    "                pass\n",
    "            else:\n",
    "                pass\n",
    "\n",
    "    if np.all(gu_bat > GU_BAT_MAX):\n",
    "        break\n",
    "\n",
    "    # loop until reach the last point\n",
    "    if index == len(points):\n",
    "        break\n",
    "\n"
   ]
  },
  {
   "cell_type": "code",
   "execution_count": 10,
   "metadata": {
    "pycharm": {
     "name": "#%%\n"
    }
   },
   "outputs": [
    {
     "data": {
      "text/plain": "array([50., 50.])"
     },
     "execution_count": 10,
     "metadata": {},
     "output_type": "execute_result"
    }
   ],
   "source": [
    "uav_time[0]"
   ]
  },
  {
   "cell_type": "markdown",
   "metadata": {
    "pycharm": {
     "name": "#%% md\n"
    }
   },
   "source": [
    "#### 8. plot the figure"
   ]
  },
  {
   "cell_type": "code",
   "execution_count": 11,
   "metadata": {
    "pycharm": {
     "name": "#%%\n"
    }
   },
   "outputs": [
    {
     "ename": "NameError",
     "evalue": "name 'beam_circle' is not defined",
     "output_type": "error",
     "traceback": [
      "\u001B[1;31m---------------------------------------------------------------------------\u001B[0m",
      "\u001B[1;31mNameError\u001B[0m                                 Traceback (most recent call last)",
      "Cell \u001B[1;32mIn[11], line 95\u001B[0m\n\u001B[0;32m     93\u001B[0m \u001B[38;5;66;03m# remove the previous beam cirle and plot the new one\u001B[39;00m\n\u001B[0;32m     94\u001B[0m \u001B[38;5;28;01mif\u001B[39;00m t \u001B[38;5;241m>\u001B[39m \u001B[38;5;241m0\u001B[39m:\n\u001B[1;32m---> 95\u001B[0m      \u001B[43mbeam_circle\u001B[49m\u001B[38;5;241m.\u001B[39mremove()\n\u001B[0;32m     97\u001B[0m \u001B[38;5;66;03m# update beam circle  \u001B[39;00m\n\u001B[0;32m     98\u001B[0m beam_circle \u001B[38;5;241m=\u001B[39m Ellipse(\n\u001B[0;32m     99\u001B[0m     xy\u001B[38;5;241m=\u001B[39m(uav_time[t][\u001B[38;5;241m0\u001B[39m], uav_time[t][\u001B[38;5;241m1\u001B[39m]),\n\u001B[0;32m    100\u001B[0m     width\u001B[38;5;241m=\u001B[39mMAX_BEAM_DIAMETER,\n\u001B[1;32m   (...)\u001B[0m\n\u001B[0;32m    106\u001B[0m     zorder\u001B[38;5;241m=\u001B[39m\u001B[38;5;241m0\u001B[39m,\n\u001B[0;32m    107\u001B[0m )\n",
      "\u001B[1;31mNameError\u001B[0m: name 'beam_circle' is not defined"
     ]
    },
    {
     "data": {
      "text/plain": "<Figure size 600x600 with 1 Axes>",
      "image/png": "[encoded data removed]"
     },
     "metadata": {},
     "output_type": "display_data"
    }
   ],
   "source": [
    "# position of uav at time n\n",
    "\n",
    "\n",
    "\n",
    "# call the figure\n",
    "fig, ax = plt.subplots()\n",
    "fig.set_figwidth(6)\n",
    "fig.set_figheight(6)\n",
    "\n",
    "# design the axis\n",
    "ax.set_xlabel(\"x-axis [m]\")\n",
    "ax.set_ylabel(\"y-axis [m]\")\n",
    "ax.set_xticks(np.arange(X_MIN, X_MAX + 1, X_GRID))\n",
    "ax.set_yticks(np.arange(Y_MIN, Y_MAX + 1, Y_GRID))\n",
    "ax.set_xlim(X_MIN, X_MAX)\n",
    "ax.set_ylim(Y_MIN, Y_MAX)\n",
    "ax.grid(False)\n",
    "\n",
    "# initial the batter of gus\n",
    "gu_bat = np.zeros((NUM_GU,))\n",
    "\n",
    "# plot initial location of gus with batteries\n",
    "current_batt = []\n",
    "for i in range(NUM_GU):\n",
    "    ax.scatter(x=gu_x[i], y=gu_y[i], c=\"blue\")\n",
    "    ax.text(x=gu_x[i] - 3.5, y=gu_y[i] - 4, s=f\"GU-{i}\")\n",
    "    current_batt.append(\n",
    "        ax.text(x=gu_x[i] - 6, y=gu_y[i] - 7, s=f\"{gu_bat[i]:.2f}mWs\"))\n",
    "\n",
    "\n",
    "\n",
    "\n",
    "# initial variables\n",
    "t = 0  # time [second]\n",
    "index = 0  # index of the route\n",
    "\n",
    "# initial uav location at time t = 0s\n",
    "uav_time = {}\n",
    "uav_time[t] = np.squeeze(points[[route[0],], :])\n",
    "uav_time[0] = np.array([50., 50.])\n",
    "\n",
    "# plot real time update trajectory\n",
    "for t in range(50):\n",
    "\n",
    "    t = t + 1  # increase time t\n",
    "\n",
    "    # update the next location of uav\n",
    "    uav_time[t] = np.squeeze(uav_time[t-1] + UAV_SPEED*norm_direction[index])\n",
    "\n",
    "    # calculate the next location vs. the end point\n",
    "    tmp = (uav_time[t] - points[route[index+1], :]) / \\\n",
    "        np.linalg.norm(uav_time[t] - points[route[index+1], :])\n",
    "\n",
    "    # if next location is longer than end point\n",
    "    # thus, change direction\n",
    "    if np.all(np.abs(tmp - norm_direction[index]) < 1e-3):\n",
    "        uav_time[t] = points[route[index+1], :]\n",
    "        index = index + 1\n",
    "\n",
    "    # update title\n",
    "    ax.set_title(f\"Simulation Result [ t = {t}s ]\")\n",
    "\n",
    "    # calculate distance\n",
    "    distance_uav2gu = distance_matrix(\n",
    "        [np.append(uav_time[t], UAV_ALTITUDE)], gu_xyz)\n",
    "\n",
    "    # calculate receive power\n",
    "    rx_power = calc_rx_power(distance_uav2gu)\n",
    "\n",
    "    # update the gu battery base on the maximum distance\n",
    "    gu_bat += (rx_power*(distance_uav2gu <= MAX_BEAM_DISTANCE))[0]\n",
    "\n",
    "    # plot arrow\n",
    "    arrow = mpatches.FancyArrowPatch(\n",
    "        (uav_time[t-1][0], uav_time[t-1][1]),\n",
    "        (uav_time[t][0], uav_time[t][1]),\n",
    "        edgecolor=\"none\",\n",
    "        facecolor=\"green\",\n",
    "        mutation_scale=20,\n",
    "        zorder=0\n",
    "    )\n",
    "    tmp = ax.add_patch(arrow)\n",
    "\n",
    "    # scatter uav location\n",
    "    scatter_uav = ax.scatter(\n",
    "        x=uav_time[t][0],\n",
    "        y=uav_time[t][1],\n",
    "        c=\"red\",\n",
    "        marker=\"s\",\n",
    "        zorder=1\n",
    "    )\n",
    "\n",
    "    # remove the previous beam cirle and plot the new one\n",
    "    if t > 0:\n",
    "         beam_circle.remove()\n",
    "\n",
    "    # update beam circle  \n",
    "    beam_circle = Ellipse(\n",
    "        xy=(uav_time[t][0], uav_time[t][1]),\n",
    "        width=MAX_BEAM_DIAMETER,\n",
    "        height=MAX_BEAM_DIAMETER,\n",
    "        angle=0,\n",
    "        edgecolor=\"none\",\n",
    "        facecolor=\"orange\",\n",
    "        alpha=0.2,\n",
    "        zorder=0,\n",
    "    )\n",
    "    uav_beam = ax.add_patch(beam_circle)\n",
    "\n",
    "    # remove the previous battery text\n",
    "    for i in range(NUM_GU):\n",
    "        current_batt[i].remove()\n",
    "        current_batt[i] = ax.text(\n",
    "            x=gu_x[i] - 6, y=gu_y[i] - 7, s=f\"{gu_bat[i]:.2f}mWs\")\n",
    "\n",
    "    # update the figure\n",
    "    display(fig)\n",
    "    clear_output(wait=True)\n",
    "\n",
    "    # set the time sleep\n",
    "    time.sleep(0.001)"
   ]
  },
  {
   "cell_type": "code",
   "execution_count": null,
   "metadata": {
    "pycharm": {
     "name": "#%%\n"
    }
   },
   "outputs": [],
   "source": [
    "gu_bat"
   ]
  },
  {
   "cell_type": "code",
   "execution_count": null,
   "metadata": {
    "pycharm": {
     "name": "#%%\n"
    }
   },
   "outputs": [],
   "source": [
    "# call the figure\n",
    "fig, ax = plt.subplots()\n",
    "# fig.set_figwidth(6)\n",
    "# fig.set_figheight(6)\n",
    "\n",
    "ax.bar(range(10), gu_bat)\n",
    "\n",
    "ax.set_xlabel(\"Index of GUs\")\n",
    "ax.set_ylabel(\"GUs' battery [mWs]\")\n",
    "\n",
    "ax.set_xticks(range(10), [f\"GU-{i}\" for i in range(10)])\n",
    "\n",
    "ax.grid(False)"
   ]
  }
 ],
 "metadata": {
  "kernelspec": {
   "display_name": "python310",
   "language": "python",
   "name": "python3"
  },
  "language_info": {
   "codemirror_mode": {
    "name": "ipython",
    "version": 3
   },
   "file_extension": ".py",
   "mimetype": "text/x-python",
   "name": "python",
   "nbconvert_exporter": "python",
   "pygments_lexer": "ipython3",
   "version": "3.10.11"
  },
  "orig_nbformat": 4
 },
 "nbformat": 4,
 "nbformat_minor": 2
}
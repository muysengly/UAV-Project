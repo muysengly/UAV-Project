{
 "cells": [
  {
   "cell_type": "code",
   "execution_count": 13,
   "metadata": {},
   "outputs": [],
   "source": [
    "import numpy as np\n",
    "\n",
    "import matplotlib.pyplot as plt"
   ]
  },
  {
   "cell_type": "code",
   "execution_count": 3,
   "metadata": {},
   "outputs": [],
   "source": [
    "tmp = np.linspace(0, 100, 1000)"
   ]
  },
  {
   "cell_type": "code",
   "execution_count": 23,
   "metadata": {},
   "outputs": [
    {
     "data": {
      "image/png": "[encoded data removed]",
      "text/plain": [
       "<Figure size 640x480 with 1 Axes>"
      ]
     },
     "metadata": {},
     "output_type": "display_data"
    }
   ],
   "source": [
    "tmp = np.ones(shape=(100, 100))\n",
    "\n",
    "tmp1 = 0*np.ones(shape=(10, 10))\n",
    "\n",
    "fig, ax = plt.subplots()\n",
    "\n",
    "ax.imshow(tmp)\n",
    "\n",
    "ax.imshow(tmp1, zorder=1)\n",
    "\n",
    "ax.invert_yaxis()\n",
    "\n",
    "ax.set_xlim([-10, 110])\n",
    "ax.set_ylim([-10, 110])\n",
    "\n",
    "ax.grid(False)"
   ]
  },
  {
   "cell_type": "code",
   "execution_count": 26,
   "metadata": {},
   "outputs": [
    {
     "name": "stdout",
     "output_type": "stream",
     "text": [
      "Intersection Points:\n"
     ]
    }
   ],
   "source": [
    "from sympy import Point, Circle\n",
    "from sympy.geometry import intersection\n",
    "\n",
    "# Define the rectangle's corners\n",
    "rectangle_corners = [Point(1, 1), Point(5, 1), Point(5, 4), Point(1, 4)]\n",
    "\n",
    "# Define the circle\n",
    "circle_center = Point(3, 3)\n",
    "circle_radius = 2\n",
    "circle = Circle(circle_center, circle_radius)\n",
    "\n",
    "# Find intersection points\n",
    "intersection_points = []\n",
    "for corner in rectangle_corners:\n",
    "    intersections = intersection(circle, corner)\n",
    "    if intersections:\n",
    "        intersection_points.extend(intersections)\n",
    "\n",
    "print(\"Intersection Points:\")\n",
    "for point in intersection_points:\n",
    "    print(point)\n"
   ]
  }
 ],
 "metadata": {
  "kernelspec": {
   "display_name": "venv_01",
   "language": "python",
   "name": "python3"
  },
  "language_info": {
   "codemirror_mode": {
    "name": "ipython",
    "version": 3
   },
   "file_extension": ".py",
   "mimetype": "text/x-python",
   "name": "python",
   "nbconvert_exporter": "python",
   "pygments_lexer": "ipython3",
   "version": "3.10.12"
  },
  "orig_nbformat": 4
 },
 "nbformat": 4,
 "nbformat_minor": 2
}

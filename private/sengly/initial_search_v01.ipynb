{
 "cells": [
  {
   "cell_type": "code",
   "execution_count": null,
   "metadata": {
    "ExecuteTime": {
     "end_time": "2023-08-21T06:22:24.176696400Z",
     "start_time": "2023-08-21T06:22:24.164684900Z"
    }
   },
   "outputs": [],
   "source": [
    "import shapely\n",
    "import matplotlib.pyplot as plt\n",
    "\n",
    "import numpy as np\n",
    "from scipy.optimize import minimize\n",
    "from scipy.optimize import NonlinearConstraint"
   ]
  },
  {
   "cell_type": "code",
   "execution_count": null,
   "metadata": {
    "ExecuteTime": {
     "end_time": "2023-08-21T06:22:24.215732300Z",
     "start_time": "2023-08-21T06:22:24.175695300Z"
    },
    "collapsed": false
   },
   "outputs": [],
   "source": [
    "# initial value\n",
    "X_MIN = 0\n",
    "Y_MIN = 0\n",
    "\n",
    "X_MAX = 100\n",
    "Y_MAX = 100\n",
    "\n",
    "RADIUS = 20\n",
    "\n",
    "NUM_POINT = 13 # adjust accordingly"
   ]
  },
  {
   "cell_type": "code",
   "execution_count": null,
   "metadata": {
    "ExecuteTime": {
     "end_time": "2023-08-21T06:22:24.224740Z",
     "start_time": "2023-08-21T06:22:24.189707800Z"
    }
   },
   "outputs": [],
   "source": [
    "# define region\n",
    "region = shapely.geometry.Polygon([\n",
    "    (X_MIN, Y_MIN),\n",
    "    (X_MAX, Y_MIN),\n",
    "    (X_MAX, Y_MAX),\n",
    "    (X_MIN, Y_MAX)\n",
    "])"
   ]
  },
  {
   "cell_type": "code",
   "execution_count": null,
   "metadata": {
    "ExecuteTime": {
     "end_time": "2023-08-21T06:22:24.224740Z",
     "start_time": "2023-08-21T06:22:24.215732300Z"
    }
   },
   "outputs": [],
   "source": [
    "# define objective function\n",
    "def objective_function(flat_points):\n",
    "\n",
    "    points = flat_points.reshape(NUM_POINT, 2)\n",
    "\n",
    "    circles = dict()\n",
    "    for i, [x, y] in enumerate(points):\n",
    "        circles[i] = shapely.Point(x, y).buffer(distance=RADIUS, resolution=128)\n",
    "\n",
    "    total_intersect_area = 0\n",
    "    for i in range(len(circles)):\n",
    "        for j in range(len(circles)):\n",
    "            total_intersect_area += circles[i].intersection(circles[j]).area\n",
    "\n",
    "    total_intersect_area = total_intersect_area - \\\n",
    "                           len(circles) * circles[0].intersection(circles[0]).area\n",
    "\n",
    "    return np.array(total_intersect_area)"
   ]
  },
  {
   "cell_type": "code",
   "execution_count": null,
   "metadata": {
    "ExecuteTime": {
     "end_time": "2023-08-21T06:22:24.233747900Z",
     "start_time": "2023-08-21T06:22:24.222738500Z"
    },
    "collapsed": false
   },
   "outputs": [],
   "source": [
    "# define constraint\n",
    "def constraint(flat_points):\n",
    "\n",
    "    points = flat_points.reshape(NUM_POINT, 2)\n",
    "\n",
    "    circles = dict()\n",
    "    for i, [x, y] in enumerate(points):\n",
    "        circles[i] = shapely.Point(x, y).buffer(distance=20, resolution=128)\n",
    "\n",
    "    union_circle = circles[0]\n",
    "    for i in range(len(circles)):\n",
    "        union_circle = union_circle.union(circles[i])\n",
    "\n",
    "    constraint_area = region.intersection(union_circle).area\n",
    "    return constraint_area"
   ]
  },
  {
   "cell_type": "code",
   "execution_count": null,
   "metadata": {
    "ExecuteTime": {
     "end_time": "2023-08-21T06:22:24.259772800Z",
     "start_time": "2023-08-21T06:22:24.234749800Z"
    }
   },
   "outputs": [],
   "source": [
    "# define initial value\n",
    "x0 = np.random.uniform(low=0, high=100, size=(NUM_POINT, 2)).reshape(2 * NUM_POINT)\n",
    "\n",
    "# define boundary\n",
    "bounds = [(0., 100.)]\n",
    "\n",
    "# nonlinear constraint\n",
    "nlc = NonlinearConstraint(constraint, region.area, np.inf)\n"
   ]
  },
  {
   "cell_type": "code",
   "execution_count": null,
   "metadata": {
    "ExecuteTime": {
     "end_time": "2023-08-21T06:23:52.402824100Z",
     "start_time": "2023-08-21T06:22:24.249762200Z"
    }
   },
   "outputs": [],
   "source": [
    "# minimize objective function\n",
    "result = minimize(\n",
    "    fun=objective_function,\n",
    "    x0=x0,\n",
    "    bounds=bounds,\n",
    "    tol=1e-1,\n",
    "    constraints=nlc,\n",
    "    options={\n",
    "        \"maxiter\": 500,\n",
    "        'disp': True,\n",
    "    }\n",
    ")"
   ]
  },
  {
   "cell_type": "code",
   "execution_count": null,
   "metadata": {
    "ExecuteTime": {
     "end_time": "2023-08-21T06:23:52.458599300Z",
     "start_time": "2023-08-21T06:23:52.403825100Z"
    },
    "collapsed": false
   },
   "outputs": [],
   "source": [
    "# test constraint\n",
    "constraint(result.x)"
   ]
  },
  {
   "cell_type": "code",
   "execution_count": null,
   "metadata": {
    "ExecuteTime": {
     "end_time": "2023-08-21T06:23:52.565697400Z",
     "start_time": "2023-08-21T06:23:52.450591600Z"
    }
   },
   "outputs": [],
   "source": [
    "# plot the optimal value\n",
    "points_opt = result.x.reshape(NUM_POINT, 2)\n",
    "\n",
    "circles = dict()\n",
    "for i, [x, y] in enumerate(points_opt):\n",
    "    circles[i] = shapely.Point(x, y).buffer(distance=RADIUS, resolution=128)\n",
    "\n",
    "plt.figure(figsize=(5, 5))\n",
    "\n",
    "for i, _ in enumerate(circles):\n",
    "    x, y = circles[i].exterior.xy\n",
    "    plt.plot(x, y)\n",
    "\n",
    "x, y = region.exterior.xy\n",
    "plt.plot(x, y)\n",
    "\n",
    "plt.xlim(-5, 105)\n",
    "plt.ylim(-5, 105)\n",
    "plt.grid()\n",
    "plt.show()"
   ]
  }
 ],
 "metadata": {
  "kernelspec": {
   "display_name": "venv_01",
   "language": "python",
   "name": "python3"
  },
  "language_info": {
   "codemirror_mode": {
    "name": "ipython",
    "version": 3
   },
   "file_extension": ".py",
   "mimetype": "text/x-python",
   "name": "python",
   "nbconvert_exporter": "python",
   "pygments_lexer": "ipython3",
   "version": "3.10.12"
  },
  "orig_nbformat": 4
 },
 "nbformat": 4,
 "nbformat_minor": 2
}

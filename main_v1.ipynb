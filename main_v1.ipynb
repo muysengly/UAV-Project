{
 "cells": [
  {
   "cell_type": "code",
   "execution_count": 1,
   "metadata": {},
   "outputs": [
    {
     "ename": "ModuleNotFoundError",
     "evalue": "No module named 'functions'",
     "output_type": "error",
     "traceback": [
      "\u001b[1;31m---------------------------------------------------------------------------\u001b[0m",
      "\u001b[1;31mModuleNotFoundError\u001b[0m                       Traceback (most recent call last)",
      "Cell \u001b[1;32mIn[1], line 4\u001b[0m\n\u001b[0;32m      1\u001b[0m \u001b[39mimport\u001b[39;00m \u001b[39mnumpy\u001b[39;00m \u001b[39mas\u001b[39;00m \u001b[39mnp\u001b[39;00m\n\u001b[0;32m      2\u001b[0m \u001b[39mimport\u001b[39;00m \u001b[39mmatplotlib\u001b[39;00m\u001b[39m.\u001b[39;00m\u001b[39mpyplot\u001b[39;00m \u001b[39mas\u001b[39;00m \u001b[39mplt\u001b[39;00m\n\u001b[1;32m----> 4\u001b[0m \u001b[39mfrom\u001b[39;00m \u001b[39mfunctions\u001b[39;00m\u001b[39m.\u001b[39;00m\u001b[39mgenerate_ground_user_location\u001b[39;00m \u001b[39mimport\u001b[39;00m \u001b[39m*\u001b[39m\n",
      "\u001b[1;31mModuleNotFoundError\u001b[0m: No module named 'functions'"
     ]
    }
   ],
   "source": [
    "import numpy as np\n",
    "import matplotlib.pyplot as plt\n",
    "\n",
    "from packages.generate_ground_user_location import *"
   ]
  },
  {
   "cell_type": "code",
   "execution_count": null,
   "metadata": {},
   "outputs": [
    {
     "data": {
      "text/plain": [
       "array([[64.63058566, 45.67791414,  0.        ],\n",
       "       [73.04155826, 23.70590576,  0.        ],\n",
       "       [70.49764575,  5.01940246,  0.        ],\n",
       "       [87.02827112, 61.16222747,  0.        ],\n",
       "       [68.73861523, 81.45614282,  0.        ],\n",
       "       [81.04057894, 93.22215196,  0.        ],\n",
       "       [48.19624417, 94.34787129,  0.        ],\n",
       "       [40.56380743, 60.0193232 ,  0.        ],\n",
       "       [72.1498263 , 64.05916519,  0.        ],\n",
       "       [84.21466551, 17.26501934,  0.        ]])"
      ]
     },
     "execution_count": 14,
     "metadata": {},
     "output_type": "execute_result"
    }
   ],
   "source": [
    "num_gu = 10  # number of ground users\n",
    "\n",
    "x_min = 0  # minimum x-axis [meter]\n",
    "x_max = 100  # maximum x-axis [meter]\n",
    "\n",
    "y_min = 0  # minimum y-axis [meter]\n",
    "y_max = 100  # maximum y-axis [meter]\n",
    "\n",
    "gu_xyz = generate_GU_xyz(\n",
    "    num_gu=num_gu,\n",
    "    x_min=x_min, x_max=x_max,\n",
    "    y_min=y_min, y_max=y_max\n",
    ")\n",
    "\n",
    "gu_xyz"
   ]
  }
 ],
 "metadata": {
  "kernelspec": {
   "display_name": "python310",
   "language": "python",
   "name": "python3"
  },
  "language_info": {
   "codemirror_mode": {
    "name": "ipython",
    "version": 3
   },
   "file_extension": ".py",
   "mimetype": "text/x-python",
   "name": "python",
   "nbconvert_exporter": "python",
   "pygments_lexer": "ipython3",
   "version": "3.10.11"
  },
  "orig_nbformat": 4
 },
 "nbformat": 4,
 "nbformat_minor": 2
}

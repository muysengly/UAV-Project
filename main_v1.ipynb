{
 "cells": [
  {
   "cell_type": "code",
   "execution_count": 3,
   "metadata": {},
   "outputs": [],
   "source": [
    "import numpy as np\n",
    "import matplotlib.pyplot as plt\n",
    "\n",
    "from functions.generate_ground_user_location import *"
   ]
  },
  {
   "cell_type": "code",
   "execution_count": 14,
   "metadata": {},
   "outputs": [
    {
     "data": {
      "text/plain": [
       "array([[64.63058566, 45.67791414,  0.        ],\n",
       "       [73.04155826, 23.70590576,  0.        ],\n",
       "       [70.49764575,  5.01940246,  0.        ],\n",
       "       [87.02827112, 61.16222747,  0.        ],\n",
       "       [68.73861523, 81.45614282,  0.        ],\n",
       "       [81.04057894, 93.22215196,  0.        ],\n",
       "       [48.19624417, 94.34787129,  0.        ],\n",
       "       [40.56380743, 60.0193232 ,  0.        ],\n",
       "       [72.1498263 , 64.05916519,  0.        ],\n",
       "       [84.21466551, 17.26501934,  0.        ]])"
      ]
     },
     "execution_count": 14,
     "metadata": {},
     "output_type": "execute_result"
    }
   ],
   "source": [
    "num_gu = 10  # number of ground users\n",
    "\n",
    "x_min = 0  # minimum x-axis [meter]\n",
    "x_max = 100  # maximum x-axis [meter]\n",
    "\n",
    "y_min = 0  # minimum y-axis [meter]\n",
    "y_max = 100  # maximum y-axis [meter]\n",
    "\n",
    "gu_xyz = generate_GU_xyz(\n",
    "    num_gu=num_gu,\n",
    "    x_min=x_min, x_max=x_max,\n",
    "    y_min=y_min, y_max=y_max\n",
    ")\n",
    "\n",
    "gu_xyz"
   ]
  }
 ],
 "metadata": {
  "kernelspec": {
   "display_name": "python310",
   "language": "python",
   "name": "python3"
  },
  "language_info": {
   "codemirror_mode": {
    "name": "ipython",
    "version": 3
   },
   "file_extension": ".py",
   "mimetype": "text/x-python",
   "name": "python",
   "nbconvert_exporter": "python",
   "pygments_lexer": "ipython3",
   "version": "3.10.11"
  },
  "orig_nbformat": 4
 },
 "nbformat": 4,
 "nbformat_minor": 2
}

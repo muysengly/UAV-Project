{
 "cells": [
  {
   "cell_type": "code",
   "execution_count": 2,
   "metadata": {},
   "outputs": [],
   "source": [
    "import numpy as np\n",
    "import matplotlib.pyplot as plt\n",
    "\n",
    "from packages.generate_ground_user_location import *"
   ]
  },
  {
   "cell_type": "code",
   "execution_count": 3,
   "metadata": {},
   "outputs": [
    {
     "data": {
      "text/plain": [
       "array([[40.81163066, 85.77716394,  0.        ],\n",
       "       [77.60882736, 31.25985975,  0.        ],\n",
       "       [95.98746446, 26.81714683,  0.        ],\n",
       "       [43.10352585, 73.30148962,  0.        ],\n",
       "       [44.19728824, 15.27951923,  0.        ],\n",
       "       [94.08107061, 58.38581409,  0.        ],\n",
       "       [89.71736296, 90.52822249,  0.        ],\n",
       "       [69.29629314, 14.43116565,  0.        ],\n",
       "       [97.48785289, 85.34434031,  0.        ],\n",
       "       [48.3348542 , 54.01581665,  0.        ]])"
      ]
     },
     "execution_count": 3,
     "metadata": {},
     "output_type": "execute_result"
    }
   ],
   "source": [
    "num_gu = 10  # number of ground users\n",
    "\n",
    "x_min = 0  # minimum x-axis [meter]\n",
    "x_max = 100  # maximum x-axis [meter]\n",
    "\n",
    "y_min = 0  # minimum y-axis [meter]\n",
    "y_max = 100  # maximum y-axis [meter]\n",
    "\n",
    "gu_xyz = generate_GU_xyz(\n",
    "    num_gu=num_gu,\n",
    "    x_min=x_min, x_max=x_max,\n",
    "    y_min=y_min, y_max=y_max\n",
    ")\n",
    "\n",
    "gu_xyz"
   ]
  }
 ],
 "metadata": {
  "kernelspec": {
   "display_name": "python310",
   "language": "python",
   "name": "python3"
  },
  "language_info": {
   "codemirror_mode": {
    "name": "ipython",
    "version": 3
   },
   "file_extension": ".py",
   "mimetype": "text/x-python",
   "name": "python",
   "nbconvert_exporter": "python",
   "pygments_lexer": "ipython3",
   "version": "3.10.11"
  },
  "orig_nbformat": 4
 },
 "nbformat": 4,
 "nbformat_minor": 2
}

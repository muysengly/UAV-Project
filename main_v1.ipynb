{
 "cells": [
  {
   "attachments": {},
   "cell_type": "markdown",
   "metadata": {},
   "source": [
    "# Project UAV\n",
    "Version 1.0"
   ]
  },
  {
   "attachments": {},
   "cell_type": "markdown",
   "metadata": {},
   "source": [
    "#### call packages"
   ]
  },
  {
   "cell_type": "code",
   "execution_count": 3,
   "metadata": {},
   "outputs": [],
   "source": [
    "import numpy as np\n",
    "import matplotlib.pyplot as plt\n"
   ]
  },
  {
   "attachments": {},
   "cell_type": "markdown",
   "metadata": {},
   "source": [
    "#### initial parameters"
   ]
  },
  {
   "cell_type": "code",
   "execution_count": 17,
   "metadata": {},
   "outputs": [],
   "source": [
    "NUM_GU = 10  # number of ground users\n",
    "\n",
    "X_MIN = 0  # minimum x-axis [meter]\n",
    "X_MAX = 100  # maximum x-axis [meter]\n",
    "Y_MIN = 0  # minimum y-axis [meter]\n",
    "Y_MAX = 100  # maximum y-axis [mseter]\n",
    "\n",
    "\n",
    "GRID_SIZE = 10  # grid size\n",
    "\n",
    "UAV_TX_POWER = 30 # uav's transmit power in [dBm]"
   ]
  },
  {
   "attachments": {},
   "cell_type": "markdown",
   "metadata": {},
   "source": [
    "#### initial variables"
   ]
  },
  {
   "cell_type": "code",
   "execution_count": null,
   "metadata": {},
   "outputs": [],
   "source": [
    "t = 0  # time [seconds]\n",
    "\n",
    "gu_bat = np.zeros((NUM_GU,)) # battery of ground user [mWh]\n"
   ]
  },
  {
   "attachments": {},
   "cell_type": "markdown",
   "metadata": {},
   "source": [
    "#### generate variables"
   ]
  },
  {
   "cell_type": "code",
   "execution_count": 19,
   "metadata": {},
   "outputs": [
    {
     "data": {
      "text/plain": [
       "(array([21.76620922,  2.45978254, 64.54631437, 64.42423368, 76.55305669,\n",
       "        46.92138874, 36.00619923, 36.26751275, 57.51811799, 18.09094413]),\n",
       " array([18.64197946, 39.16008871,  1.84215945, 87.99873544, 71.10299044,\n",
       "        56.59357344,  0.70539646, 88.31852363, 69.05815188, 17.53727165]),\n",
       " array([0., 0., 0., 0., 0., 0., 0., 0., 0., 0.]))"
      ]
     },
     "execution_count": 19,
     "metadata": {},
     "output_type": "execute_result"
    }
   ],
   "source": [
    "# generate ground user location randomly x,y,z [meters]\n",
    "gu_x = np.random.uniform(low=X_MIN, high=X_MAX, size=(NUM_GU,))\n",
    "gu_y = np.random.uniform(low=Y_MIN, high=Y_MAX, size=(NUM_GU,))\n",
    "gu_z = np.zeros((NUM_GU,))\n",
    "\n",
    "# print\n",
    "gu_x, gu_y, gu_z\n",
    "\n"
   ]
  },
  {
   "cell_type": "code",
   "execution_count": 20,
   "metadata": {},
   "outputs": [
    {
     "data": {
      "text/plain": [
       "(0, 0, 10)"
      ]
     },
     "execution_count": 20,
     "metadata": {},
     "output_type": "execute_result"
    }
   ],
   "source": [
    "# generate uav location\n",
    "uav_x = 0\n",
    "uav_y = 0\n",
    "uav_z = 10 # uav's altitude [meter]\n",
    "\n",
    "\n",
    "# print\n",
    "uav_x, uav_y, uav_z"
   ]
  }
 ],
 "metadata": {
  "kernelspec": {
   "display_name": "python310",
   "language": "python",
   "name": "python3"
  },
  "language_info": {
   "codemirror_mode": {
    "name": "ipython",
    "version": 3
   },
   "file_extension": ".py",
   "mimetype": "text/x-python",
   "name": "python",
   "nbconvert_exporter": "python",
   "pygments_lexer": "ipython3",
   "version": "3.10.11"
  },
  "orig_nbformat": 4
 },
 "nbformat": 4,
 "nbformat_minor": 2
}

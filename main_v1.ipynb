{
 "cells": [
  {
   "attachments": {},
   "cell_type": "markdown",
   "metadata": {},
   "source": [
    "# Project UAV\n",
    "Version 1.0"
   ]
  },
  {
   "attachments": {},
   "cell_type": "markdown",
   "metadata": {},
   "source": [
    "#### call packages"
   ]
  },
  {
   "cell_type": "code",
   "execution_count": 103,
   "metadata": {},
   "outputs": [],
   "source": [
    "import numpy as np\n",
    "import matplotlib.pyplot as plt\n",
    "from matplotlib.patches import Ellipse\n",
    "import matplotlib.patches as mpatches\n",
    "from scipy.spatial import distance_matrix\n"
   ]
  },
  {
   "attachments": {},
   "cell_type": "markdown",
   "metadata": {},
   "source": [
    "#### initial parameters"
   ]
  },
  {
   "cell_type": "code",
   "execution_count": 128,
   "metadata": {},
   "outputs": [],
   "source": [
    "NUM_GU = 10  # number of ground users\n",
    "\n",
    "X_MIN = 0  # minimum x-axis [meter]\n",
    "X_MAX = 100  # maximum x-axis [meter]\n",
    "Y_MIN = 0  # minimum y-axis [meter]\n",
    "Y_MAX = 100  # maximum y-axis [mseter]\n",
    "\n",
    "UAV_ALTITUDE = 10  # altitude of uav [meter]\n",
    "MAX_BEAM_ANGLE = 60  # maximum beamforming angle [degree]\n",
    "\n",
    "# maximum beamforming diameter [meter]\n",
    "MAX_BEAM_DIAMETER = 2*UAV_ALTITUDE*np.tan(MAX_BEAM_ANGLE*np.pi/180)\n",
    "\n",
    "X_GRID = 10  # number of x grid\n",
    "Y_GRID = 10  # number of y grid\n",
    "\n",
    "\n",
    "UAV_TX_POWER = 30  # uav's transmit power in [dBm]"
   ]
  },
  {
   "attachments": {},
   "cell_type": "markdown",
   "metadata": {},
   "source": [
    "#### initial variables"
   ]
  },
  {
   "cell_type": "code",
   "execution_count": 105,
   "metadata": {},
   "outputs": [],
   "source": [
    "t = 0  # time [seconds]\n",
    "\n",
    "gu_bat = np.zeros((NUM_GU,)) # battery of ground user [mWh]\n"
   ]
  },
  {
   "attachments": {},
   "cell_type": "markdown",
   "metadata": {},
   "source": [
    "#### generate variables"
   ]
  },
  {
   "cell_type": "code",
   "execution_count": 106,
   "metadata": {},
   "outputs": [
    {
     "data": {
      "text/plain": [
       "(array([69.49197283, 57.88474841, 82.94861574, 72.4232105 , 46.05831549,\n",
       "        14.12524099, 30.78907931, 38.14161303, 85.08893408, 79.39589684]),\n",
       " array([49.58297799, 46.1081015 ,  6.83902668, 89.24904909, 43.03677051,\n",
       "        52.58271842, 14.66540458, 35.15295401, 49.62198519, 36.71882706]),\n",
       " array([0., 0., 0., 0., 0., 0., 0., 0., 0., 0.]))"
      ]
     },
     "execution_count": 106,
     "metadata": {},
     "output_type": "execute_result"
    }
   ],
   "source": [
    "# generate ground user location randomly x,y,z [meters]\n",
    "gu_x = np.random.uniform(low=X_MIN, high=X_MAX, size=(NUM_GU,))\n",
    "gu_y = np.random.uniform(low=Y_MIN, high=Y_MAX, size=(NUM_GU,))\n",
    "gu_z = np.zeros((NUM_GU,))\n",
    "\n",
    "# print\n",
    "gu_x, gu_y, gu_z\n",
    "\n"
   ]
  },
  {
   "cell_type": "code",
   "execution_count": 107,
   "metadata": {},
   "outputs": [
    {
     "data": {
      "text/plain": [
       "array([[[ 5., 15., 25., 35., 45., 55., 65., 75., 85., 95.],\n",
       "        [ 5., 15., 25., 35., 45., 55., 65., 75., 85., 95.],\n",
       "        [ 5., 15., 25., 35., 45., 55., 65., 75., 85., 95.],\n",
       "        [ 5., 15., 25., 35., 45., 55., 65., 75., 85., 95.],\n",
       "        [ 5., 15., 25., 35., 45., 55., 65., 75., 85., 95.],\n",
       "        [ 5., 15., 25., 35., 45., 55., 65., 75., 85., 95.],\n",
       "        [ 5., 15., 25., 35., 45., 55., 65., 75., 85., 95.],\n",
       "        [ 5., 15., 25., 35., 45., 55., 65., 75., 85., 95.],\n",
       "        [ 5., 15., 25., 35., 45., 55., 65., 75., 85., 95.],\n",
       "        [ 5., 15., 25., 35., 45., 55., 65., 75., 85., 95.]],\n",
       "\n",
       "       [[ 5.,  5.,  5.,  5.,  5.,  5.,  5.,  5.,  5.,  5.],\n",
       "        [15., 15., 15., 15., 15., 15., 15., 15., 15., 15.],\n",
       "        [25., 25., 25., 25., 25., 25., 25., 25., 25., 25.],\n",
       "        [35., 35., 35., 35., 35., 35., 35., 35., 35., 35.],\n",
       "        [45., 45., 45., 45., 45., 45., 45., 45., 45., 45.],\n",
       "        [55., 55., 55., 55., 55., 55., 55., 55., 55., 55.],\n",
       "        [65., 65., 65., 65., 65., 65., 65., 65., 65., 65.],\n",
       "        [75., 75., 75., 75., 75., 75., 75., 75., 75., 75.],\n",
       "        [85., 85., 85., 85., 85., 85., 85., 85., 85., 85.],\n",
       "        [95., 95., 95., 95., 95., 95., 95., 95., 95., 95.]]])"
      ]
     },
     "execution_count": 107,
     "metadata": {},
     "output_type": "execute_result"
    }
   ],
   "source": [
    "# generate meshgrid\n",
    "tmp_x = np.linspace(X_MIN + X_GRID/2,X_MAX-X_GRID/2,X_GRID)\n",
    "tmp_y = np.linspace(Y_MIN + Y_GRID/2,Y_MAX-Y_GRID/2,Y_GRID)\n",
    "GRID = np.array(np.meshgrid(tmp_x, tmp_y))\n",
    "\n",
    "GRID"
   ]
  },
  {
   "cell_type": "code",
   "execution_count": 123,
   "metadata": {},
   "outputs": [
    {
     "data": {
      "text/plain": [
       "(55.0, 15.0, 10)"
      ]
     },
     "execution_count": 123,
     "metadata": {},
     "output_type": "execute_result"
    }
   ],
   "source": [
    "# generate uav location\n",
    "\n",
    "uav_x_pos = 1  # x position of uav 0,1,...,GRID_SIZE-1\n",
    "uav_y_pos = 5  # y position of uav 0,1,...,GRID_SIZE-1\n",
    "\n",
    "uav_x = GRID[0, uav_x_pos, uav_y_pos]\n",
    "uav_y = GRID[1, uav_x_pos, uav_y_pos]\n",
    "uav_z = UAV_ALTITUDE  # uav's altitude [meter]\n",
    "\n",
    "\n",
    "# print\n",
    "uav_x, uav_y, uav_z"
   ]
  },
  {
   "cell_type": "code",
   "execution_count": 127,
   "metadata": {},
   "outputs": [
    {
     "data": {
      "text/plain": [
       "<Figure size 600x600 with 0 Axes>"
      ]
     },
     "metadata": {},
     "output_type": "display_data"
    },
    {
     "data": {
      "image/png": "[encoded data removed]",
      "text/plain": [
       "<Figure size 600x600 with 1 Axes>"
      ]
     },
     "metadata": {},
     "output_type": "display_data"
    }
   ],
   "source": [
    "plt.figure(figsize=(6, 6))\n",
    "fig, ax = plt.subplots(figsize=(6, 6))\n",
    "\n",
    "\n",
    "plt.scatter(x=uav_x, y=uav_y, c=\"red\")\n",
    "plt.text(x=uav_x-3.5, y=uav_y-4, s=f\"UAV\")\n",
    "\n",
    "ellipse = Ellipse(\n",
    "    xy=(uav_x, uav_y),\n",
    "    width=MAX_BEAM_DIAMETER,\n",
    "    height=MAX_BEAM_DIAMETER,\n",
    "    angle=0,\n",
    "    edgecolor=\"none\",\n",
    "    facecolor=\"orange\",\n",
    "    alpha=0.2,\n",
    ")\n",
    "beam_hap = ax.add_patch(ellipse)\n",
    "\n",
    "\n",
    "for i in range(NUM_GU):\n",
    "    plt.scatter(x=gu_x[i], y=gu_y[i], c=\"blue\")\n",
    "    plt.text(x=gu_x[i]-3.5, y=gu_y[i]-4, s=f\"GU-{i}\")\n",
    "\n",
    "\n",
    "plt.xlabel(\"x-axis [m]\")\n",
    "plt.ylabel(\"y-axis [m]\")\n",
    "\n",
    "plt.xticks(np.arange(X_MIN, X_MAX+1, X_GRID))\n",
    "plt.yticks(np.arange(Y_MIN, Y_MAX+1, Y_GRID))\n",
    "\n",
    "plt.xlim(X_MIN, X_MAX)\n",
    "plt.ylim(Y_MIN, Y_MAX)\n",
    "\n",
    "plt.grid()\n",
    "\n",
    "plt.show()"
   ]
  }
 ],
 "metadata": {
  "kernelspec": {
   "display_name": "python310",
   "language": "python",
   "name": "python3"
  },
  "language_info": {
   "codemirror_mode": {
    "name": "ipython",
    "version": 3
   },
   "file_extension": ".py",
   "mimetype": "text/x-python",
   "name": "python",
   "nbconvert_exporter": "python",
   "pygments_lexer": "ipython3",
   "version": "3.10.11"
  },
  "orig_nbformat": 4
 },
 "nbformat": 4,
 "nbformat_minor": 2
}
